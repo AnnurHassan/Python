{
 "cells": [
  {
   "attachments": {},
   "cell_type": "markdown",
   "metadata": {},
   "source": [
    "# Link to Problem Set 4\n",
    "\n",
    "https://cs50.harvard.edu/python/2022/psets/4/"
   ]
  },
  {
   "cell_type": "code",
   "execution_count": 5,
   "metadata": {},
   "outputs": [
    {
     "name": "stdout",
     "output_type": "stream",
     "text": [
      "Output: 👍\n"
     ]
    }
   ],
   "source": [
    "#Emojize \n",
    "\n",
    "import emoji\n",
    "\n",
    "aliase = input(\"Input: \")\n",
    "print(emoji.emojize(f'Output: {aliase}', language = \"alias\"))\n"
   ]
  },
  {
   "cell_type": "code",
   "execution_count": 31,
   "metadata": {},
   "outputs": [
    {
     "ename": "SystemExit",
     "evalue": "Invalid usage",
     "output_type": "error",
     "traceback": [
      "An exception has occurred, use %tb to see the full traceback.\n",
      "\u001b[1;31mSystemExit\u001b[0m\u001b[1;31m:\u001b[0m Invalid usage\n"
     ]
    }
   ],
   "source": [
    "#Frank, Ian and Glen’s Letters\n",
    "#This code doesn't work in this environmnet (run this in a .py file)\n",
    "\n",
    "from pyfiglet import Figlet\n",
    "import sys\n",
    "import random\n",
    "\n",
    "figlet = Figlet()\n",
    "font_list = figlet.getFonts()\n",
    "\n",
    "if len(sys.argv) == 1:\n",
    "    font = random.choice(font_list)\n",
    "    text = input(\"Input: \")\n",
    "    print(figlet.renderText(text))\n",
    "\n",
    "elif len(sys.argv) == 3:\n",
    "\n",
    "    if (sys.argv[-2]) == \"-f\" and (sys.argv[-1]) in font_list:\n",
    "        font = sys.argv[-1]\n",
    "        text = input(\"Input: \")\n",
    "        figlet.setFont(font = font)\n",
    "        print(figlet.renderText(text))\n",
    "    else:\n",
    "        sys.exit(\"Invalid usage\")\n",
    "\n",
    "else:\n",
    "    sys.exit(\"Invalid usage\")\n"
   ]
  },
  {
   "cell_type": "code",
   "execution_count": 1,
   "metadata": {},
   "outputs": [
    {
     "name": "stdout",
     "output_type": "stream",
     "text": [
      "midnight Code comp Wedn Top at at \n"
     ]
    }
   ],
   "source": [
    "#Adieu, Adieu\n",
    "\n",
    "import inflect\n",
    "\n",
    "activate = inflect.engine()\n",
    "\n",
    "def main():\n",
    "    names = tuple(get_input())\n",
    "    print(f'Adieu, adieu, to {activate.join(names)}')\n",
    "\n",
    "\n",
    "def get_input():\n",
    "    name_list = []\n",
    "    while True:\n",
    "        try:\n",
    "            name = input(\"Name: \").strip()\n",
    "            name_list.append(name)\n",
    "        except EOFError:\n",
    "            break\n",
    "        except KeyboardInterrupt:\n",
    "            break\n",
    "    return name_list\n",
    "\n",
    "\n",
    "main()"
   ]
  },
  {
   "cell_type": "code",
   "execution_count": null,
   "metadata": {},
   "outputs": [],
   "source": [
    "#Guessing Game\n",
    "\n",
    "from random import randint\n",
    "\n",
    "def main():\n",
    "    level = get_level()\n",
    "    num = randint(1, level)\n",
    "    while True:\n",
    "        guess = get_guess()\n",
    "        if guess < num:\n",
    "            print(\"Too small!\")\n",
    "            continue\n",
    "        elif guess > num:\n",
    "            print(\"Too large!\")\n",
    "            continue\n",
    "        else:\n",
    "            print(\"Just right!\")\n",
    "            exit()\n",
    "\n",
    "\n",
    "def get_level():\n",
    "    while True:\n",
    "        try:\n",
    "            n = int(input(\"Level: \"))\n",
    "        except ValueError:\n",
    "            continue\n",
    "        else:\n",
    "            if n >= 1:\n",
    "                return n\n",
    "            else:\n",
    "                continue\n",
    "\n",
    "\n",
    "def get_guess():\n",
    "    while True:\n",
    "        try:\n",
    "            guess = int(input(\"Guess: \"))\n",
    "        except ValueError:\n",
    "            continue\n",
    "        else:\n",
    "            if guess >= 1:\n",
    "                return guess\n",
    "            else:\n",
    "                continue\n",
    "\n",
    "main()"
   ]
  }
 ],
 "metadata": {
  "kernelspec": {
   "display_name": "Python 3",
   "language": "python",
   "name": "python3"
  },
  "language_info": {
   "codemirror_mode": {
    "name": "ipython",
    "version": 3
   },
   "file_extension": ".py",
   "mimetype": "text/x-python",
   "name": "python",
   "nbconvert_exporter": "python",
   "pygments_lexer": "ipython3",
   "version": "3.11.3"
  },
  "orig_nbformat": 4
 },
 "nbformat": 4,
 "nbformat_minor": 2
}
