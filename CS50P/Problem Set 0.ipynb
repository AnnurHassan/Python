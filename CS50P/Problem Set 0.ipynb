{
 "cells": [
  {
   "attachments": {},
   "cell_type": "markdown",
   "metadata": {},
   "source": [
    "# Link to the Problem Set 0 \n",
    "\n",
    "https://cs50.harvard.edu/python/2022/psets/0/"
   ]
  },
  {
   "cell_type": "code",
   "execution_count": 1,
   "metadata": {},
   "outputs": [
    {
     "name": "stdout",
     "output_type": "stream",
     "text": [
      "this is cs50\n"
     ]
    }
   ],
   "source": [
    "# Indoor Voice\n",
    "\n",
    "# Take input from the user and store them in all lower cases.\n",
    "indoor_voice = input(\"Please enter your voice: \").lower()\n",
    "\n",
    "print(indoor_voice)"
   ]
  },
  {
   "cell_type": "code",
   "execution_count": 2,
   "metadata": {},
   "outputs": [
    {
     "name": "stdout",
     "output_type": "stream",
     "text": [
      "This...is...CS50.\n"
     ]
    }
   ],
   "source": [
    "# Playback Speed\n",
    "\n",
    "def main():\n",
    "\n",
    "    user_input = input(\"Please enter a sentence: \")\n",
    "    \n",
    "    print(user_input.replace(\" \", \"...\")) # Using .replace() function to swap out the space for periods\n",
    "\n",
    "main()"
   ]
  },
  {
   "cell_type": "code",
   "execution_count": 3,
   "metadata": {},
   "outputs": [
    {
     "name": "stdout",
     "output_type": "stream",
     "text": [
      "Hello 🙂 Goodbye 🙁\n"
     ]
    }
   ],
   "source": [
    "# Making Faces \n",
    "\n",
    "def main():\n",
    "    emoticon = input(\"Please enter a emoticon: \")\n",
    "    emoji = convert(emoticon)\n",
    "    \n",
    "    print(emoji)\n",
    "\n",
    "def convert(emoticon):\n",
    "    emoticon = emoticon.replace(\":)\", \"🙂\")\n",
    "    emoticon = emoticon.replace(\":(\", \"🙁\")\n",
    "\n",
    "    return emoticon\n",
    "\n",
    "main()"
   ]
  },
  {
   "cell_type": "code",
   "execution_count": 4,
   "metadata": {},
   "outputs": [
    {
     "name": "stdout",
     "output_type": "stream",
     "text": [
      "90000000000000000\n"
     ]
    }
   ],
   "source": [
    "# Einstein \n",
    "\n",
    "def main():\n",
    "    mass = int(input(\"Please enter mass in Kilograms(KG): \"))\n",
    "    energy = mc2(mass)\n",
    "    \n",
    "    print(energy)\n",
    "\n",
    "def mc2(mass):\n",
    "    energy = mass * pow(300000000, 2)\n",
    "\n",
    "    return energy\n",
    "\n",
    "main()"
   ]
  },
  {
   "cell_type": "code",
   "execution_count": 5,
   "metadata": {},
   "outputs": [
    {
     "name": "stdout",
     "output_type": "stream",
     "text": [
      "Leave $7.50\n"
     ]
    }
   ],
   "source": [
    "# Tip Calculator\n",
    "\n",
    "def main():\n",
    "    dollars = dollars_to_float(input(\"How much was the meal? \"))\n",
    "    percent = percent_to_float(input(\"What percentage would you like to tip? \"))\n",
    "    tip = dollars * percent\n",
    "    \n",
    "    print(f\"Leave ${tip:.2f}\")\n",
    "\n",
    "\n",
    "def dollars_to_float(d):\n",
    "    dollars = d.removeprefix(\"$\")\n",
    "    dollars = float(dollars)\n",
    "\n",
    "    return dollars\n",
    "\n",
    "\n",
    "def percent_to_float(p):\n",
    "    percent = p.removesuffix(\"%\")\n",
    "    percent = float(percent) / 100\n",
    "\n",
    "    return percent\n",
    "\n",
    "\n",
    "main()"
   ]
  }
 ],
 "metadata": {
  "kernelspec": {
   "display_name": "Python 3",
   "language": "python",
   "name": "python3"
  },
  "language_info": {
   "codemirror_mode": {
    "name": "ipython",
    "version": 3
   },
   "file_extension": ".py",
   "mimetype": "text/x-python",
   "name": "python",
   "nbconvert_exporter": "python",
   "pygments_lexer": "ipython3",
   "version": "3.11.3"
  },
  "orig_nbformat": 4
 },
 "nbformat": 4,
 "nbformat_minor": 2
}
