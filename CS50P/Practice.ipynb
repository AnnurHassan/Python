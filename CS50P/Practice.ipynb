{
 "cells": [
  {
   "cell_type": "code",
   "execution_count": 5,
   "metadata": {},
   "outputs": [
    {
     "name": "stdout",
     "output_type": "stream",
     "text": [
      "{'apple': 130, 'avocado': 50, 'banana': 110, 'cantaloupe': 50, 'grapefruit': 60, 'grapes': 90, 'honeydew': 50, 'kiwifruit': 90, 'lemon': 15, 'lime': 20, 'nectarine': 60, 'orange': 80, 'peach': 60, 'pear': 100, 'pineapple': 50, 'plums': 70, 'strawberries': 50, 'sweet cherries': 50, 'watermelon': 80}\n"
     ]
    }
   ],
   "source": [
    "dict_1 = {}\n",
    "\n",
    "while True:\n",
    "    key = input(\"Please enter the name of the item: \")\n",
    "    if key == \"quit\":\n",
    "        break\n",
    "    else:\n",
    "        value = int(input(\"Please enter the amount of calories: \"))\n",
    "\n",
    "        dict_1[key] = value\n",
    "\n",
    "print(dict_1)"
   ]
  },
  {
   "cell_type": "code",
   "execution_count": null,
   "metadata": {},
   "outputs": [],
   "source": []
  }
 ],
 "metadata": {
  "kernelspec": {
   "display_name": "Python 3",
   "language": "python",
   "name": "python3"
  },
  "language_info": {
   "codemirror_mode": {
    "name": "ipython",
    "version": 3
   },
   "file_extension": ".py",
   "mimetype": "text/x-python",
   "name": "python",
   "nbconvert_exporter": "python",
   "pygments_lexer": "ipython3",
   "version": "3.11.3"
  },
  "orig_nbformat": 4
 },
 "nbformat": 4,
 "nbformat_minor": 2
}
